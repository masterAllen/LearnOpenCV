{
 "cells": [
  {
   "cell_type": "code",
   "execution_count": 2,
   "metadata": {},
   "outputs": [],
   "source": [
    "import cv2\n",
    "import numpy as np\n",
    "from utils import show_images\n",
    "\n",
    "src = cv2.imread('image/edge/sources/06.png')"
   ]
  },
  {
   "cell_type": "code",
   "execution_count": null,
   "metadata": {},
   "outputs": [],
   "source": [
    "# 还有另外一个类 RFFeatureGetter，但这个是训练时才用到，具体参考：\n",
    "# https://github.com/fengzhenHIT/OpenCV-contrib-module-Chinese-Tutorials/blob/master/chapter%2020/%E8%AE%AD%E7%BB%83%E7%BB%93%E6%9E%84%E5%8C%96%E6%A3%AE%E6%9E%97.md\n",
    "model_pth = './image/edge/StructuredEdgeDetection.yml'\n",
    "pDollar = cv2.ximgproc.createStructuredEdgeDetection(model_pth)\n",
    "\n",
    "# 检测边缘的图片要求：RGB、0-1\n",
    "nowimg = cv2.cvtColor(src, cv2.COLOR_BGR2RGB)\n",
    "edges = pDollar.detectEdges(np.float32(nowimg) / 255.0)\n",
    "orimap = pDollar.computeOrientation(edges)\n",
    "# The function edgenms in edge image and suppress edges where edge is stronger in orthogonal direction.\n",
    "edges_nm = pDollar.edgesNms(edges, orimap)\n",
    "\n",
    "show_images([\n",
    "    ('src', src),\n",
    "    ('edges', edges),\n",
    "    ('edges nms', edges_nm)\n",
    "])"
   ]
  },
  {
   "cell_type": "code",
   "execution_count": null,
   "metadata": {},
   "outputs": [],
   "source": [
    "''' \n",
    "EdgeDrawing\n",
    "'''\n",
    "rgb_src = cv2.imread('image/edge/sources/06.png')\n",
    "gray_src = cv2.cvtColor(rgb_src, cv2.COLOR_BGR2GRAY)\n",
    "\n",
    "ed = cv2.ximgproc.createEdgeDrawing()\n",
    "\n",
    "edParms = ed.Params()\n",
    "edParms.GradientThresholdValue = 38\n",
    "edParms.EdgeDetectionOperator = cv2.ximgproc.EdgeDrawing_SOBEL\n",
    "edParms.AnchorThresholdValue = 8\n",
    "ed.setParams(edParms)\n",
    "# 最开始要执行这个函数，相当于和原图绑定一下\n",
    "ed.detectEdges(gray_src)\n",
    "\n",
    "edges_by_ed = np.copy(rgb_src)\n",
    "segments = ed.getSegments()\n",
    "for oneseg in segments:\n",
    "    cv2.polylines(edges_by_ed, [oneseg], False, (0, 255, 0), 1)\n",
    "\n",
    "# EdgeDrawing 还可以检测直线和椭圆\n",
    "ellipses = ed.detectEllipses()\n",
    "lines = ed.detectLines()\n",
    "\n",
    "\n",
    "show_images([\n",
    "    ('rgb src', rgb_src),\n",
    "    ('edges by ed', edges_by_ed),\n",
    "], colnum=5)"
   ]
  }
 ],
 "metadata": {
  "kernelspec": {
   "display_name": "Python 3",
   "language": "python",
   "name": "python3"
  },
  "language_info": {
   "codemirror_mode": {
    "name": "ipython",
    "version": 3
   },
   "file_extension": ".py",
   "mimetype": "text/x-python",
   "name": "python",
   "nbconvert_exporter": "python",
   "pygments_lexer": "ipython3",
   "version": "3.12.3"
  }
 },
 "nbformat": 4,
 "nbformat_minor": 2
}
