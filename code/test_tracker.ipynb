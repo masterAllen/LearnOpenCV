{
 "cells": [
  {
   "cell_type": "code",
   "execution_count": null,
   "metadata": {},
   "outputs": [],
   "source": [
    "import cv2\n",
    "\n",
    "capture = cv2.VideoCapture(cv2.samples.findFileOrKeep('./video/vtest.avi'))\n",
    "\n",
    "tracker = cv2.TrackerCSRT.create()\n",
    "# tracker = cv2.TrackerKCF.create()\n",
    "\n",
    "# 读取第一帧，指定 ROI\n",
    "ret, frame = capture.read()\n",
    "x0,y0,h0,w0 = 150, 480, 100, 80 \n",
    "roi = frame[x0:x0+h0, y0:y0+w0]\n",
    "\n",
    "# tracker init\n",
    "tracker.init(frame, (y0, x0, w0, h0))\n",
    "\n",
    "while True:\n",
    "    ret, frame = capture.read()\n",
    "    if frame is None:\n",
    "        break\n",
    "\n",
    "    # tracker update\n",
    "    ok, roi = tracker.update(frame)\n",
    "    \n",
    "    # 画框\n",
    "    if ok:\n",
    "        y, x, w, h = [int(x) for x in roi]\n",
    "        cv2.rectangle(frame, (y,x), (y+w,x+h), [0, 255, 0], 2)\n",
    "\n",
    "\n",
    "    cv2.imshow('Frame', frame)\n",
    "    cv2.waitKey(20)"
   ]
  }
 ],
 "metadata": {
  "language_info": {
   "name": "python"
  }
 },
 "nbformat": 4,
 "nbformat_minor": 2
}
