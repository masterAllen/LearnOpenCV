{
 "cells": [
  {
   "cell_type": "code",
   "execution_count": null,
   "metadata": {},
   "outputs": [],
   "source": [
    "import cv2\n",
    "import numpy as np\n",
    " \n",
    "# https://docs.opencv.org/4.x/d2/d55/group__bgsegm.html \n",
    "backSub = cv2.createBackgroundSubtractorMOG2()\n",
    "# backSub = cv2.createBackgroundSubtractorKNN()\n",
    "# backSub = cv2.bgsegm.createBackgroundSubtractorCNT()\n",
    "# backSub = cv2.bgsegm.createBackgroundSubtractorGSOC()\n",
    " \n",
    "capture = cv2.VideoCapture(cv2.samples.findFileOrKeep('./video/vtest.avi'))\n",
    " \n",
    "lastframe = None\n",
    "while True:\n",
    "    ret, frame = capture.read()\n",
    "    if frame is None:\n",
    "        break\n",
    "\n",
    "    if lastframe is None:\n",
    "        lastframe = frame\n",
    "        \n",
    "    cv2.imshow('Frame', frame)\n",
    "\n",
    "    # 简单的前后两帧相减\n",
    "    fgMask = np.abs(frame.astype(float) - lastframe.astype(float)).astype(np.uint8)\n",
    "    cv2.imshow('SimpleSub', fgMask)\n",
    "    lastframe = frame\n",
    "\n",
    "    # 直接调用 apply 方法\n",
    "    fgMask2 = backSub.apply(frame)\n",
    "\n",
    "    # 添加矩形框，比较粗糙，可以进一步细节调整（如形态学等操作）\n",
    "    contours, hierachy = cv2.findContours(fgMask2, cv2.RETR_LIST, method=cv2.CHAIN_APPROX_NONE)\n",
    "    for i in range(len(contours)):\n",
    "        now_contours = contours[i] # (n, 1, 2)\n",
    "        if (cv2.contourArea(now_contours) > 100):\n",
    "            x0,y0,w0,h0 = cv2.boundingRect(now_contours)\n",
    "            cv2.rectangle(fgMask2, (x0,y0), (x0+w0,y0+h0), 255)\n",
    "    cv2.imshow('BackGroundSub', fgMask2)\n",
    "\n",
    "    cv2.waitKey(1)"
   ]
  }
 ],
 "metadata": {
  "kernelspec": {
   "display_name": "Python 3",
   "language": "python",
   "name": "python3"
  },
  "language_info": {
   "codemirror_mode": {
    "name": "ipython",
    "version": 3
   },
   "file_extension": ".py",
   "mimetype": "text/x-python",
   "name": "python",
   "nbconvert_exporter": "python",
   "pygments_lexer": "ipython3",
   "version": "3.12.3"
  }
 },
 "nbformat": 4,
 "nbformat_minor": 2
}
