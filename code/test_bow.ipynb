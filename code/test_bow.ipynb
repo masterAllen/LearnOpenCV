{
 "cells": [
  {
   "cell_type": "code",
   "execution_count": 52,
   "metadata": {},
   "outputs": [],
   "source": [
    "import os\n",
    "import cv2\n",
    "import numpy as np\n",
    "import matplotlib.pyplot as plt"
   ]
  },
  {
   "cell_type": "code",
   "execution_count": null,
   "metadata": {},
   "outputs": [],
   "source": [
    "# 读取图片，记录特征和标签\n",
    "datadir = './image/classification_imgs/train'\n",
    "label_names = os.listdir(datadir)\n",
    "\n",
    "# 直接默认就好\n",
    "sift = cv2.SIFT_create()\n",
    "\n",
    "# 读取所有图片，记录出现过的特征\n",
    "datadir = './image/classification_imgs/train'\n",
    "features = []\n",
    "for idx, fname in enumerate(label_names):\n",
    "    for imgname in os.listdir(f'{datadir}/{fname}'):\n",
    "        img = cv2.imread(f'{datadir}/{fname}/{imgname}', -1)\n",
    "        now_features = sift.detectAndCompute(img, None)[1]\n",
    "        features.extend(list(now_features))\n",
    "features = np.array(features)"
   ]
  },
  {
   "cell_type": "code",
   "execution_count": null,
   "metadata": {},
   "outputs": [],
   "source": [
    "# KMeans 分类，50 个种类，其中 random_state 要保持始终是同一个值\n",
    "from sklearn.cluster import KMeans\n",
    "kmeans = KMeans(n_clusters=50, random_state=10).fit(features)\n",
    "print('原始有', features.shape)"
   ]
  },
  {
   "cell_type": "code",
   "execution_count": 34,
   "metadata": {},
   "outputs": [],
   "source": [
    "# 重新遍历训练集，统计在 Kmeans 分类中各个类出现次数（即直方图统计）\n",
    "datadir = './image/classification_imgs/train'\n",
    "train_features, train_labels = [], []\n",
    "for idx, fname in enumerate(label_names):\n",
    "    for imgname in os.listdir(f'{datadir}/{fname}'):\n",
    "        img = cv2.imread(f'{datadir}/{fname}/{imgname}', -1)\n",
    "        now_features = sift.detectAndCompute(img, None)[1]\n",
    "\n",
    "        # Kmeans 计算本图中所有 SIFT 特征各自归属哪个类\n",
    "        now_count = np.array([0 for _ in range(50)])\n",
    "        for k in kmeans.predict(now_features):\n",
    "            now_count[k] += 1\n",
    "        # 归一化哦\n",
    "        now_count = now_count / np.sum(now_count)\n",
    "        train_features.append(now_count)\n",
    "        train_labels.append(idx)\n",
    "train_features = np.array(train_features, dtype=np.float32)\n",
    "train_labels = np.array(train_labels, dtype=int)"
   ]
  },
  {
   "cell_type": "code",
   "execution_count": 97,
   "metadata": {},
   "outputs": [
    {
     "name": "stdout",
     "output_type": "stream",
     "text": [
      "Train Wrong rate: 0.0012391573729863693\n"
     ]
    }
   ],
   "source": [
    "# 训练 SVM，这里面有重要的参数 C 和 gamma，自己尽量不同尝试吧\n",
    "svm = cv2.ml.SVM_create()\n",
    "svm.setType(cv2.ml.SVM_C_SVC)\n",
    "svm.setKernel(cv2.ml.SVM_RBF)\n",
    "svm.setC(100)\n",
    "svm.setGamma(100)\n",
    "\n",
    "svm.train(train_features, cv2.ml.ROW_SAMPLE, train_labels)\n",
    "\n",
    "# SVM 检测\n",
    "predict_labels = svm.predict(train_features)[1].flatten()\n",
    "print('Train Wrong rate:', sum(predict_labels != train_labels)/(train_features.shape[0]))"
   ]
  },
  {
   "cell_type": "code",
   "execution_count": 39,
   "metadata": {},
   "outputs": [],
   "source": [
    "# 测试集，同样在每张图片上统计在 Kmeans 分类中各个类出现次数（即直方图统计）\n",
    "datadir = './image/classification_imgs/test'\n",
    "test_features, test_labels = [], []\n",
    "for idx, fname in enumerate(label_names):\n",
    "    for imgname in os.listdir(f'{datadir}/{fname}'):\n",
    "        img = cv2.imread(f'{datadir}/{fname}/{imgname}', -1)\n",
    "        now_features = sift.detectAndCompute(img, None)[1]\n",
    "\n",
    "        # Kmeans 计算本图中所有 SIFT 特征各自归属哪个类\n",
    "        now_count = np.array([0 for _ in range(50)])\n",
    "        for k in kmeans.predict(now_features):\n",
    "            now_count[k] += 1\n",
    "        now_count = now_count / np.sum(now_count)\n",
    "        # 归一化哦\n",
    "        test_features.append(now_count)\n",
    "        test_labels.append(idx)\n",
    "test_features = np.array(test_features, dtype=np.float32)\n",
    "test_labels = np.array(test_labels, dtype=int)"
   ]
  },
  {
   "cell_type": "code",
   "execution_count": 99,
   "metadata": {},
   "outputs": [
    {
     "name": "stdout",
     "output_type": "stream",
     "text": [
      "Test Wrong rate: 0.32857142857142857\n"
     ]
    }
   ],
   "source": [
    "# SVM 检测\n",
    "predict_labels = svm.predict(test_features)[1].flatten()\n",
    "print('Test Wrong rate:', sum(predict_labels != test_labels)/(test_features.shape[0]))"
   ]
  }
 ],
 "metadata": {
  "kernelspec": {
   "display_name": "Python 3",
   "language": "python",
   "name": "python3"
  },
  "language_info": {
   "codemirror_mode": {
    "name": "ipython",
    "version": 3
   },
   "file_extension": ".py",
   "mimetype": "text/x-python",
   "name": "python",
   "nbconvert_exporter": "python",
   "pygments_lexer": "ipython3",
   "version": "3.12.3"
  }
 },
 "nbformat": 4,
 "nbformat_minor": 2
}
