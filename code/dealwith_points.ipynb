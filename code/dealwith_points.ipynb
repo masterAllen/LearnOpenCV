{
 "cells": [
  {
   "cell_type": "code",
   "execution_count": 40,
   "metadata": {},
   "outputs": [],
   "source": [
    "import cv2\n",
    "import numpy as np\n",
    "import matplotlib.pyplot as plt\n",
    "\n",
    "def show_image(img):\n",
    "    fig = plt.figure(figsize=(1, 1))\n",
    "    # fig = plt.figure()\n",
    "    ax = plt.Axes(fig, [0., 0., 1., 1.])\n",
    "    ax.set_axis_off()\n",
    "    fig.add_axes(ax)\n",
    "    ax.imshow(img, cmap=\"gray\")\n",
    "    plt.show()\n",
    "\n",
    "def draw_lines(img, points):\n",
    "    return_img = np.copy(img)\n",
    "    y0, x0 = points[-1]\n",
    "    for y1, x1 in points:\n",
    "        cv2.line(return_img, (y0,x0), (y1,x1), [0,255,0])\n",
    "        y0, x0 = y1, x1\n",
    "\n",
    "    for y0, x0 in points:\n",
    "        return_img[x0, y0] = [255,0,0]\n",
    "    return return_img\n",
    "    "
   ]
  },
  {
   "cell_type": "code",
   "execution_count": 41,
   "metadata": {},
   "outputs": [
    {
     "data": {
      "image/png": "[encoded data removed]",
      "text/plain": [
       "<Figure size 100x100 with 1 Axes>"
      ]
     },
     "metadata": {},
     "output_type": "display_data"
    },
    {
     "name": "stdout",
     "output_type": "stream",
     "text": [
      "红色是点，绿色是线 返回结果中同样是纵坐标在前，横坐标在后\n",
      "周长 85.25483322143555\n",
      "面积 524.0\n"
     ]
    },
    {
     "data": {
      "image/png": "[encoded data removed]",
      "text/plain": [
       "<Figure size 100x100 with 1 Axes>"
      ]
     },
     "metadata": {},
     "output_type": "display_data"
    },
    {
     "name": "stdout",
     "output_type": "stream",
     "text": [
      "周长 81.8885440826416\n",
      "面积 516.0\n"
     ]
    },
    {
     "data": {
      "image/png": "[encoded data removed]",
      "text/plain": [
       "<Figure size 100x100 with 1 Axes>"
      ]
     },
     "metadata": {},
     "output_type": "display_data"
    },
    {
     "name": "stdout",
     "output_type": "stream",
     "text": [
      "轮廓是否是凸 True\n",
      "[10, 15] 是否在轮廓中 1.0\n",
      "[15, 10] 是否在轮廓中 1.0\n"
     ]
    },
    {
     "data": {
      "image/png": "[encoded data removed]",
      "text/plain": [
       "<Figure size 100x100 with 1 Axes>"
      ]
     },
     "metadata": {},
     "output_type": "display_data"
    }
   ],
   "source": [
    "'''\n",
    "approxPolyDP 和 轮廓的一些函数(周长、面积等)\n",
    "'''\n",
    "img = np.zeros((40, 40), dtype=np.uint8)\n",
    "cv2.circle(img, (20, 20), 10, 255, 5)\n",
    "show_image(img)\n",
    "\n",
    "contours, hierachy = cv2.findContours(img, cv2.RETR_TREE, method=cv2.CHAIN_APPROX_NONE)\n",
    "point_set = contours[0][:, 0]\n",
    "\n",
    "now_img = cv2.cvtColor(np.zeros_like(img), cv2.COLOR_GRAY2BGR)\n",
    "\n",
    "print('红色是点，绿色是线', '返回结果中同样是纵坐标在前，横坐标在后')\n",
    "print('周长', cv2.arcLength(point_set, closed=True))\n",
    "print('面积', cv2.contourArea(point_set))\n",
    "show_image(draw_lines(now_img, point_set))\n",
    "\n",
    "approx_points = cv2.approxPolyDP(point_set, 1, True)[:, 0]\n",
    "print('周长', cv2.arcLength(approx_points, closed=True))\n",
    "print('面积', cv2.contourArea(approx_points))\n",
    "show_image(draw_lines(now_img, approx_points))\n",
    "\n",
    "print('轮廓是否是凸', cv2.isContourConvex(approx_points))\n",
    "\n",
    "now_points = [[10, 15], [15, 10]]\n",
    "for onep in now_points:\n",
    "    now_img[onep[0], onep[1]] = [255, 255, 255]\n",
    "    # measureDist: False 只返回 -1,0,+1；True 则返回到轮廓的最近距离\n",
    "    print(f'{onep} 是否在轮廓中', cv2.pointPolygonTest(approx_points, onep, measureDist=False))\n",
    "show_image(draw_lines(now_img, approx_points))"
   ]
  },
  {
   "cell_type": "code",
   "execution_count": 42,
   "metadata": {},
   "outputs": [
    {
     "data": {
      "image/png": "[encoded data removed]",
      "text/plain": [
       "<Figure size 100x100 with 1 Axes>"
      ]
     },
     "metadata": {},
     "output_type": "display_data"
    },
    {
     "data": {
      "image/png": "[encoded data removed]",
      "text/plain": [
       "<Figure size 100x100 with 1 Axes>"
      ]
     },
     "metadata": {},
     "output_type": "display_data"
    },
    {
     "data": {
      "image/png": "[encoded data removed]",
      "text/plain": [
       "<Figure size 100x100 with 1 Axes>"
      ]
     },
     "metadata": {},
     "output_type": "display_data"
    },
    {
     "data": {
      "image/png": "[encoded data removed]",
      "text/plain": [
       "<Figure size 100x100 with 1 Axes>"
      ]
     },
     "metadata": {},
     "output_type": "display_data"
    }
   ],
   "source": [
    "'''\n",
    "点集各种 Fit 函数\n",
    "'''\n",
    "\n",
    "img = np.zeros((50, 50), dtype=np.uint8)\n",
    "point_set = np.array([[20, 20], [20, 13], [28, 19], [33, 18], [17, 31]])\n",
    "for onep in point_set:\n",
    "    img[onep[0], onep[1]] = 255\n",
    "show_image(img)\n",
    "\n",
    "# important: 点集需要纵坐标在前面！！！\n",
    "point_set[:, [0, 1]] = point_set[:, [1, 0]]\n",
    "\n",
    "# # 最小矩形（正方向）\n",
    "# now_img = cv2.cvtColor(np.copy(img), cv2.COLOR_GRAY2BGR)\n",
    "# x0,y0,w0,h0 = cv2.boundingRect(point_set)\n",
    "# cv2.rectangle(now_img, (x0,y0), (x0+w0,y0+h0), [0,255,0])\n",
    "# show_image(now_img)\n",
    "\n",
    "# # 最小矩形（任意方向）\n",
    "# now_img = cv2.cvtColor(np.copy(img), cv2.COLOR_GRAY2BGR)\n",
    "# box = cv2.boxPoints(cv2.minAreaRect(point_set))\n",
    "# box = box.astype(int) # 这句很重要，坐标转为 int\n",
    "# cv2.drawContours(now_img, [box], -1, (0, 255, 0), 1)\n",
    "# show_image(now_img)\n",
    "\n",
    "# # 最小凸包\n",
    "# now_img = cv2.cvtColor(np.copy(img), cv2.COLOR_GRAY2BGR)\n",
    "# hull = cv2.convexHull(point_set)\n",
    "# hull = hull.astype(int) # 这句很重要，坐标转为 int\n",
    "# cv2.drawContours(now_img, [hull], -1, (0, 255, 0), 1)\n",
    "# show_image(now_img)\n",
    "\n",
    "# # 最小三角形\n",
    "# now_img = cv2.cvtColor(np.copy(img), cv2.COLOR_GRAY2BGR)\n",
    "# area, triangle  = cv2.minEnclosingTriangle(point_set)\n",
    "# triangle = triangle.astype(int)\n",
    "# cv2.drawContours(now_img, [triangle], -1, (0, 255, 0), 1)\n",
    "# show_image(now_img)\n",
    "\n",
    "# 最小椭圆\n",
    "now_img = cv2.cvtColor(np.copy(img), cv2.COLOR_GRAY2BGR)\n",
    "ellipse = cv2.fitEllipse(point_set)\n",
    "cv2.ellipse(now_img, ellipse, (0,255,0), 1)\n",
    "show_image(now_img)\n",
    "\n",
    "# 最小椭圆\n",
    "now_img = cv2.cvtColor(np.copy(img), cv2.COLOR_GRAY2BGR)\n",
    "ellipse = cv2.fitEllipseAMS(point_set)\n",
    "cv2.ellipse(now_img, ellipse, (0,255,0), 1)\n",
    "show_image(now_img)\n",
    "\n",
    "# 最小椭圆\n",
    "now_img = cv2.cvtColor(np.copy(img), cv2.COLOR_GRAY2BGR)\n",
    "ellipse = cv2.fitEllipseDirect(point_set)\n",
    "cv2.ellipse(now_img, ellipse, (0,255,0), 1)\n",
    "show_image(now_img)\n"
   ]
  },
  {
   "cell_type": "code",
   "execution_count": 43,
   "metadata": {},
   "outputs": [
    {
     "data": {
      "image/png": "[encoded data removed]",
      "text/plain": [
       "<Figure size 100x100 with 1 Axes>"
      ]
     },
     "metadata": {},
     "output_type": "display_data"
    },
    {
     "name": "stdout",
     "output_type": "stream",
     "text": [
      "[[[14.716984  19.339624 ]]\n",
      "\n",
      " [[20.000002  20.000002 ]]\n",
      "\n",
      " [[19.000002  28.000002 ]]\n",
      "\n",
      " [[15.9292965 27.616165 ]]\n",
      "\n",
      " [[13.000004  20.000002 ]]]\n",
      "------------------\n",
      "[[[15.929297 27.616163]]\n",
      "\n",
      " [[13.000004 20.000002]]\n",
      "\n",
      " [[14.716984 19.339624]]\n",
      "\n",
      " [[20.000002 20.000002]]\n",
      "\n",
      " [[19.000002 28.000002]]]\n"
     ]
    }
   ],
   "source": [
    "'''\n",
    "相交\n",
    "'''\n",
    "now_img = cv2.cvtColor(np.copy(img), cv2.COLOR_GRAY2BGR)\n",
    "rect1 = cv2.minAreaRect(point_set[0:3])\n",
    "rect2 = cv2.minAreaRect(point_set[1:5])\n",
    "cv2.drawContours(now_img, [cv2.boxPoints(rect1).astype(int)], -1, (0, 255, 0), 1)\n",
    "cv2.drawContours(now_img, [cv2.boxPoints(rect2).astype(int)], -1, (0, 255, 0), 1)\n",
    "show_image(now_img)\n",
    "\n",
    "# 直接使用矩形相交方法\n",
    "is_intersect, intersect_points1 = cv2.rotatedRectangleIntersection(rect1, rect2)\n",
    "\n",
    "# 求矩形的点，然后使用轮廓相交方法\n",
    "points1 = cv2.RotatedRect(*rect1).points()\n",
    "points2 = cv2.RotatedRect(*rect2).points()\n",
    "area, intersect_points2 = cv2.intersectConvexConvex(points1, points2)\n",
    "\n",
    "print(intersect_points1)\n",
    "print('------------------')\n",
    "print(intersect_points2)"
   ]
  }
 ],
 "metadata": {
  "kernelspec": {
   "display_name": "Python 3",
   "language": "python",
   "name": "python3"
  },
  "language_info": {
   "codemirror_mode": {
    "name": "ipython",
    "version": 3
   },
   "file_extension": ".py",
   "mimetype": "text/x-python",
   "name": "python",
   "nbconvert_exporter": "python",
   "pygments_lexer": "ipython3",
   "version": "3.12.3"
  }
 },
 "nbformat": 4,
 "nbformat_minor": 2
}
