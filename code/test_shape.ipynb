{
 "cells": [
  {
   "cell_type": "code",
   "execution_count": 43,
   "metadata": {},
   "outputs": [],
   "source": [
    "import cv2\n",
    "import os\n",
    "import numpy as np\n",
    "from utils import show_images\n",
    "\n",
    "# shape 模块 可以分类如下\n",
    "# class  \tcv::ShapeTransformer\n",
    "    # class  \tcv::AffineTransformer\n",
    "    # class  \tcv::ThinPlateSplineShapeTransformer\n",
    " \n",
    "# class  \tcv::HistogramCostExtractor\n",
    "    # class  \tcv::ChiHistogramCostExtractor\n",
    "    # class  \tcv::EMDHistogramCostExtractor\n",
    "    # class  \tcv::EMDL1HistogramCostExtractor\n",
    "    # class  \tcv::NormHistogramCostExtractor\n",
    " \n",
    "# class  \tcv::ShapeDistanceExtractor\n",
    "    # class  \tcv::HausdorffDistanceExtractor\n",
    "    # class  \tcv::ShapeContextDistanceExtractor\n",
    "\n",
    "def draw_points(srcimg, points):\n",
    "    result = np.zeros((srcimg.shape[0], srcimg.shape[1], 3))\n",
    "    ps = points.reshape(-1, 2)\n",
    "    for p in ps:\n",
    "        result[int(p[1]), int(p[0])] = [0, 255, 0]\n",
    "    return result.astype(np.uint8)\n",
    "\n",
    "# **一个**轮廓 -> float32 的 points\n",
    "def make_points(contour, n=None):\n",
    "    points = contour.reshape(-1, 1, 2)\n",
    "\n",
    "    # 本来到这里就结束了，不过 OpenCV 给的示例代码有下面类似的实现\n",
    "    # 不是很清楚目的，估计为了加快速度，相当于重采样，在 contour 上选择 n 个点\n",
    "    # 但是实际使用我感觉好影响准确率，n 的值不好把握，对于大的轮廓要大，但多大不好确定\n",
    "    if n is not None:\n",
    "        np.random.shuffle(points) # 先打乱这些点\n",
    "        if points.shape[0] < n:\n",
    "            new_array = np.pad(points, ((0, n-points.shape[0]), (0, 0), (0, 0)), 'edge')\n",
    "            points = new_array\n",
    "        else:\n",
    "            points = points[:n]\n",
    "\n",
    "    return points.astype(np.float32)\n"
   ]
  },
  {
   "cell_type": "code",
   "execution_count": 44,
   "metadata": {},
   "outputs": [
    {
     "name": "stdout",
     "output_type": "stream",
     "text": [
      "0.6541350170764999\n",
      "0.6541350170764999\n",
      "0.6541350170764999\n",
      "0.6541350170764999\n"
     ]
    },
    {
     "data": {
      "image/png": "[encoded data removed]",
      "text/plain": [
       "<Figure size 1200x600 with 2 Axes>"
      ]
     },
     "metadata": {},
     "output_type": "display_data"
    }
   ],
   "source": [
    "'''\n",
    "测试 matchShapes\n",
    "'''\n",
    "img1 = cv2.imread('./image/shape/13.png', -1)\n",
    "contours1, _ = cv2.findContours(img1, cv2.RETR_TREE, method=cv2.CHAIN_APPROX_NONE)\n",
    "points1 = make_points(contours1[0])\n",
    "\n",
    "img2 = cv2.imread('./image/shape/14.png', -1)\n",
    "contours2, _ = cv2.findContours(img2, cv2.RETR_TREE, method=cv2.CHAIN_APPROX_NONE)\n",
    "points2 = make_points(contours2[0])\n",
    "\n",
    "print(cv2.matchShapes(points1.reshape((-1, 1, 2)), points2.reshape((-1, 1, 2)), 1, 0))\n",
    "print(cv2.matchShapes(points1.astype(int), points2.astype(int), 1, 0))\n",
    "print(cv2.matchShapes(points1.reshape((1, -1, 2)), points2.reshape((1, -1, 2)), 1, 0))\n",
    "print(cv2.matchShapes(contours1[0], contours2[0], 1, 0))\n",
    "\n",
    "show_images([\n",
    "    ('img1', draw_points(img1, points1)),\n",
    "    ('img2', draw_points(img2, points2)),\n",
    "])\n"
   ]
  },
  {
   "cell_type": "code",
   "execution_count": 45,
   "metadata": {},
   "outputs": [
    {
     "name": "stdout",
     "output_type": "stream",
     "text": [
      "1.png 6.965648651123047 6.965648651123047\n"
     ]
    }
   ],
   "source": [
    "'''\n",
    "Shape Distance Extractor 使用说明\n",
    "'''\n",
    "# class  \tcv::ShapeDistanceExtractor -> computeDistance\n",
    "    # class  \tcv::HausdorffDistanceExtractor\n",
    "    # class  \tcv::ShapeContextDistanceExtractor\n",
    "extractor = cv2.createShapeContextDistanceExtractor()\n",
    "\n",
    "src = cv2.imread('./image/shape/13.png', -1)\n",
    "src_contours, _ = cv2.findContours(src, cv2.RETR_TREE, method=cv2.CHAIN_APPROX_NONE)\n",
    "src_points = make_points(src_contours[0], n=500)\n",
    "\n",
    "for imgname in os.listdir('./image/shape'):\n",
    "    now = cv2.imread(f'./image/shape/{imgname}', -1)\n",
    "    now_contours, _ = cv2.findContours(now, cv2.RETR_TREE, method=cv2.CHAIN_APPROX_NONE)\n",
    "    now_points = make_points(now_contours[0], n=500)\n",
    "\n",
    "    # 传入的必须是 (x, 1, 2) 或 (1, x, 2) 这种 shape 的 ndarray，两个 ndarray 的 x 不强制要一样\n",
    "    result1 = extractor.computeDistance(src_points.reshape(1, -1, 2), now_points.reshape(1, -1, 2))\n",
    "    result2 = extractor.computeDistance(src_points.reshape(-1, 1, 2), now_points.reshape(-1, 1, 2))\n",
    "    print(imgname, result1, result2)\n",
    "    break"
   ]
  },
  {
   "cell_type": "code",
   "execution_count": 36,
   "metadata": {},
   "outputs": [
    {
     "name": "stdout",
     "output_type": "stream",
     "text": [
      "1.png\n",
      "(1657, 1, 2) (590, 1, 2)\n",
      "(1682, 1682)\n"
     ]
    }
   ],
   "source": [
    "'''\n",
    "HistogramCostExtractor 使用说明\n",
    "'''\n",
    "# class  \tcv::HistogramCostExtractor -> buildCostMatrix\n",
    "    # class  \tcv::ChiHistogramCostExtractor\n",
    "    # class  \tcv::EMDHistogramCostExtractor\n",
    "    # class  \tcv::EMDL1HistogramCostExtractor\n",
    "    # class  \tcv::NormHistogramCostExtractor\n",
    "extractor = cv2.createChiHistogramCostExtractor()\n",
    "\n",
    "src = cv2.imread('./image/shape/13.png', -1)\n",
    "src_contours, _ = cv2.findContours(src, cv2.RETR_TREE, method=cv2.CHAIN_APPROX_NONE)\n",
    "src_points = make_points(src_contours[0])\n",
    "\n",
    "for imgname in os.listdir('./image/shape'):\n",
    "    now = cv2.imread(f'./image/shape/{imgname}', -1)\n",
    "    now_contours, _ = cv2.findContours(now, cv2.RETR_TREE, method=cv2.CHAIN_APPROX_NONE)\n",
    "    now_points = make_points(now_contours[0])\n",
    "\n",
    "    result = extractor.buildCostMatrix(src_points, now_points)\n",
    "    print(imgname)\n",
    "    print(src_points.shape, now_points.shape)\n",
    "    print(result.shape)\n",
    "    break"
   ]
  },
  {
   "cell_type": "code",
   "execution_count": null,
   "metadata": {},
   "outputs": [],
   "source": [
    "'''\n",
    "ShapeTransformer 配合 ShapeDistanceExtractor 使用\n",
    "'''\n",
    "\n",
    "# class  \tcv::ShapeDistanceExtractor -> computeDistance\n",
    "    # class  \tcv::HausdorffDistanceExtractor\n",
    "    # class  \tcv::ShapeContextDistanceExtractor\n",
    "extractor = cv2.createShapeContextDistanceExtractor()\n",
    "\n",
    "img1 = cv2.imread('./image/shape/13.png', -1)\n",
    "contours1, _ = cv2.findContours(img1, cv2.RETR_TREE, method=cv2.CHAIN_APPROX_NONE)\n",
    "points1 = make_points(contours1[0])\n",
    "\n",
    "img2 = cv2.imread('./image/shape/14.png', -1)\n",
    "contours2, _ = cv2.findContours(img2, cv2.RETR_TREE, method=cv2.CHAIN_APPROX_NONE)\n",
    "points2 = make_points(contours2[0])\n",
    "\n",
    "# class  \tcv::ShapeTransformer\n",
    "    # class  \tcv::AffineTransformer\n",
    "    # class  \tcv::ThinPlateSplineShapeTransformer\n",
    "\n",
    "# **重要**：applyTransformation 必须是 (1, x, 2) 的 float32 的 ndarray!!\n",
    "transformer = cv2.createAffineTransformer(fullAffine=True)\n",
    "extractor.setTransformAlgorithm(transformer)\n",
    "result = extractor.computeDistance(points1, points2)\n",
    "_, trans_points1 = transformer.applyTransformation(points2.reshape(1, -1, 2))\n",
    "\n",
    "transformer = cv2.createThinPlateSplineShapeTransformer()\n",
    "extractor.setTransformAlgorithm(transformer)\n",
    "result = extractor.computeDistance(points1, points2)\n",
    "_, trans_points2 = transformer.applyTransformation(points2.reshape(1, -1, 2))\n",
    "\n",
    "show_images([\n",
    "    ('img1', draw_points(img1, points1)),\n",
    "    ('img2', draw_points(img2, points2)),\n",
    "    ('AffineTransformer', draw_points(img2, trans_points1)),\n",
    "    ('ThinPlateSplineShapeTransformer', draw_points(img2, trans_points2)),\n",
    "])\n"
   ]
  },
  {
   "cell_type": "code",
   "execution_count": 74,
   "metadata": {},
   "outputs": [
    {
     "data": {
      "image/png": "[encoded data removed]",
      "text/plain": [
       "<Figure size 600x600 with 1 Axes>"
      ]
     },
     "metadata": {},
     "output_type": "display_data"
    },
    {
     "name": "stdout",
     "output_type": "stream",
     "text": [
      "(< cv2.KeyPoint 000001772E3AE220>, < cv2.KeyPoint 0000017731AE0480>, < cv2.KeyPoint 0000017731AE11D0>, < cv2.KeyPoint 000001772E43EF10>, < cv2.KeyPoint 00000177309B61F0>, < cv2.KeyPoint 00000177313732A0>, < cv2.KeyPoint 0000017731370C60>, < cv2.KeyPoint 00000177313738D0>, < cv2.KeyPoint 0000017731370480>, < cv2.KeyPoint 000001772FF43510>)\n"
     ]
    }
   ],
   "source": [
    "'''\n",
    "ShapeTransformer 单独使用\n",
    "'''\n",
    "img1 = cv2.imread('./image/shape/13.png', -1)\n",
    "contours1, _ = cv2.findContours(img1, cv2.RETR_TREE, method=cv2.CHAIN_APPROX_NONE)\n",
    "points1 = make_points(contours1[0])\n",
    "\n",
    "img2 = cv2.imread('./image/shape/14.png', -1)\n",
    "contours2, _ = cv2.findContours(img2, cv2.RETR_TREE, method=cv2.CHAIN_APPROX_NONE)\n",
    "points2 = make_points(contours2[0])\n",
    "\n",
    "# def make_mask(img, ps):\n",
    "#     mask = np.zeros(img.shape, dtype=np.uint8)\n",
    "#     for p in ps.reshape(-1, 2):\n",
    "#         p0, p1 = int(p[0]), int(p[1])\n",
    "#         mask[p0-2:p0+3, p1-2:p1+3] = 255\n",
    "#     return mask\n",
    "# mask1, mask2 = make_mask(img1, points1), make_mask(img2, points2)\n",
    "\n",
    "sift = cv2.SIFT_create()\n",
    "\n",
    "# keypoints1, descriptors1 = sift.detectAndCompute(img1, mask=mask1)\n",
    "\n",
    "keypoints1, descriptors1 = sift.detectAndCompute(img1, mask=None)\n",
    "# keypoints2, descriptors2 = sift.detectAndCompute(img2, mask=mask2)\n",
    "\n",
    "# bf = cv2.BFMatcher(cv2.NORM_HAMMING, crossCheck=True)\n",
    "# matches = bf.match(descriptors1, descriptors2)\n",
    "\n",
    "# shapes1, shapes2 = [], []\n",
    "\n",
    "# # transformer = cv2.createThinPlateSplineShapeTransformer()\n",
    "# # extractor.setTransformAlgorithm(transformer)\n",
    "# # result = extractor.computeDistance(points1, points2)\n",
    "# # _, trans_points2 = transformer.applyTransformation(points2.reshape(1, -1, 2))\n",
    "\n",
    "# # show_images([\n",
    "# #     ('img1', draw_points(img1, points1)),\n",
    "# #     ('img2', draw_points(img2, points2)),\n",
    "# #     ('AffineTransformer', draw_points(img2, trans_points1)),\n",
    "# #     ('ThinPlateSplineShapeTransformer', draw_points(img2, trans_points2)),\n",
    "# # ])"
   ]
  }
 ],
 "metadata": {
  "kernelspec": {
   "display_name": "Python 3",
   "language": "python",
   "name": "python3"
  },
  "language_info": {
   "codemirror_mode": {
    "name": "ipython",
    "version": 3
   },
   "file_extension": ".py",
   "mimetype": "text/x-python",
   "name": "python",
   "nbconvert_exporter": "python",
   "pygments_lexer": "ipython3",
   "version": "3.12.3"
  }
 },
 "nbformat": 4,
 "nbformat_minor": 2
}
